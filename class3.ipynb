{
  "nbformat": 4,
  "nbformat_minor": 0,
  "metadata": {
    "colab": {
      "provenance": []
    },
    "kernelspec": {
      "name": "python3",
      "display_name": "Python 3"
    },
    "language_info": {
      "name": "python"
    }
  },
  "cells": [
    {
      "cell_type": "code",
      "execution_count": null,
      "metadata": {
        "colab": {
          "base_uri": "https://localhost:8080/"
        },
        "id": "gv87bHyPzhyW",
        "outputId": "a74cf257-4215-4591-ea22-ea23b5f39c33"
      },
      "outputs": [
        {
          "output_type": "stream",
          "name": "stdout",
          "text": [
            "4\n"
          ]
        }
      ],
      "source": [
        "x=2\n",
        "x='hello'\n",
        "x=4\n",
        "x=print(x)"
      ]
    },
    {
      "cell_type": "markdown",
      "source": [
        "#List constants"
      ],
      "metadata": {
        "id": "ezjs4Xba0hq_"
      }
    },
    {
      "cell_type": "code",
      "source": [
        "print([1,24,76])\n",
        "print(['red','yellow','blue'])\n",
        "print(['red',24,98.6])\n",
        "print([1,[5,6],7])\n",
        "print([])"
      ],
      "metadata": {
        "colab": {
          "base_uri": "https://localhost:8080/"
        },
        "id": "fuez1hPR0kzN",
        "outputId": "a91dcefb-8124-4009-8032-108f235d49c6"
      },
      "execution_count": null,
      "outputs": [
        {
          "output_type": "stream",
          "name": "stdout",
          "text": [
            "[1, 24, 76]\n",
            "['red', 'yellow', 'blue']\n",
            "['red', 24, 98.6]\n",
            "[1, [5, 6], 7]\n",
            "[]\n"
          ]
        }
      ]
    },
    {
      "cell_type": "markdown",
      "source": [
        "###Lists and definite loops"
      ],
      "metadata": {
        "id": "7uwRw-u21-H5"
      }
    },
    {
      "cell_type": "code",
      "source": [
        "for i in ([5,4,3,2,1]):\n",
        "  print(i)\n",
        "print('Blastoff')"
      ],
      "metadata": {
        "colab": {
          "base_uri": "https://localhost:8080/"
        },
        "id": "XZXkr74F19wx",
        "outputId": "9650c5d6-dc53-4814-f385-8f9f6072eebf"
      },
      "execution_count": null,
      "outputs": [
        {
          "output_type": "stream",
          "name": "stdout",
          "text": [
            "5\n",
            "4\n",
            "3\n",
            "2\n",
            "1\n",
            "Blastoff\n"
          ]
        }
      ]
    },
    {
      "cell_type": "code",
      "source": [
        "friends=(['joseph','glenn','sally'])\n",
        "for friend in friends:\n",
        "  print('Happy new year',friend)\n",
        "print('Done!')\n"
      ],
      "metadata": {
        "colab": {
          "base_uri": "https://localhost:8080/"
        },
        "id": "-BwaXBcG2U81",
        "outputId": "e7876604-e54e-4cd8-b590-e780a4681f04"
      },
      "execution_count": null,
      "outputs": [
        {
          "output_type": "stream",
          "name": "stdout",
          "text": [
            "Happy new year joseph\n",
            "Happy new year glenn\n",
            "Happy new year sally\n",
            "Done!\n"
          ]
        }
      ]
    },
    {
      "cell_type": "markdown",
      "source": [
        "#Looking inside Lists"
      ],
      "metadata": {
        "id": "-SRXySbY3Q75"
      }
    },
    {
      "cell_type": "code",
      "source": [
        "friends=(['joseph','glenn','sally'])\n",
        "print (friends[1])"
      ],
      "metadata": {
        "colab": {
          "base_uri": "https://localhost:8080/"
        },
        "id": "wh3Wl9XB3EUn",
        "outputId": "4c2e7e15-6f1c-40eb-9a5d-6c3642927347"
      },
      "execution_count": null,
      "outputs": [
        {
          "output_type": "stream",
          "name": "stdout",
          "text": [
            "glenn\n"
          ]
        }
      ]
    },
    {
      "cell_type": "markdown",
      "source": [
        "#Lists are mutable but strings are immutable(we cannot change the contents of a string-we must make a new string to make any changes)"
      ],
      "metadata": {
        "id": "hRj6C9x231bE"
      }
    },
    {
      "cell_type": "code",
      "source": [
        "fruit='Banana'\n",
        "fruit[0]='b'.\n",
        "print(fruit)"
      ],
      "metadata": {
        "colab": {
          "base_uri": "https://localhost:8080/",
          "height": 214
        },
        "id": "70t61iv_3myD",
        "outputId": "a59710ba-e5cd-416b-f339-1546b3a293db"
      },
      "execution_count": null,
      "outputs": [
        {
          "output_type": "error",
          "ename": "TypeError",
          "evalue": "ignored",
          "traceback": [
            "\u001b[0;31m---------------------------------------------------------------------------\u001b[0m",
            "\u001b[0;31mTypeError\u001b[0m                                 Traceback (most recent call last)",
            "\u001b[0;32m<ipython-input-18-63f51c2f541a>\u001b[0m in \u001b[0;36m<cell line: 2>\u001b[0;34m()\u001b[0m\n\u001b[1;32m      1\u001b[0m \u001b[0mfruit\u001b[0m\u001b[0;34m=\u001b[0m\u001b[0;34m'Banana'\u001b[0m\u001b[0;34m\u001b[0m\u001b[0;34m\u001b[0m\u001b[0m\n\u001b[0;32m----> 2\u001b[0;31m \u001b[0mfruit\u001b[0m\u001b[0;34m[\u001b[0m\u001b[0;36m0\u001b[0m\u001b[0;34m]\u001b[0m\u001b[0;34m=\u001b[0m\u001b[0;34m'b'\u001b[0m\u001b[0;34m\u001b[0m\u001b[0;34m\u001b[0m\u001b[0m\n\u001b[0m\u001b[1;32m      3\u001b[0m \u001b[0mprint\u001b[0m\u001b[0;34m(\u001b[0m\u001b[0mfruit\u001b[0m\u001b[0;34m)\u001b[0m\u001b[0;34m\u001b[0m\u001b[0;34m\u001b[0m\u001b[0m\n",
            "\u001b[0;31mTypeError\u001b[0m: 'str' object does not support item assignment"
          ]
        }
      ]
    },
    {
      "cell_type": "code",
      "source": [
        "fruit='Banana' #string\n",
        "x=fruit.lower()\n",
        "print(x)"
      ],
      "metadata": {
        "colab": {
          "base_uri": "https://localhost:8080/"
        },
        "id": "u5VzmEkB4Y1u",
        "outputId": "9b35ae4f-aebc-4c7d-83d6-02462816ad78"
      },
      "execution_count": null,
      "outputs": [
        {
          "output_type": "stream",
          "name": "stdout",
          "text": [
            "banana\n"
          ]
        }
      ]
    },
    {
      "cell_type": "code",
      "source": [
        "lotto = ([2,14,26,41,63])\n",
        "print(lotto)\n",
        "lotto[2]=28 #lists are mutuable\n",
        "print(lotto)"
      ],
      "metadata": {
        "colab": {
          "base_uri": "https://localhost:8080/"
        },
        "id": "ZI4cU0Cl4nwI",
        "outputId": "6d9cdcb7-be7c-408e-c31b-16e75aafb253"
      },
      "execution_count": null,
      "outputs": [
        {
          "output_type": "stream",
          "name": "stdout",
          "text": [
            "[2, 14, 26, 41, 63]\n",
            "[2, 14, 28, 41, 63]\n"
          ]
        }
      ]
    },
    {
      "cell_type": "markdown",
      "source": [
        "###How long is a List?"
      ],
      "metadata": {
        "id": "AVgr-Y2C5KEe"
      }
    },
    {
      "cell_type": "code",
      "source": [
        "greet='hello bob' #string\n",
        "print(len(greet))\n",
        "print('\\n')\n",
        "\n",
        "x=([1,2,'joe',99])\n",
        "print(len(x))"
      ],
      "metadata": {
        "colab": {
          "base_uri": "https://localhost:8080/"
        },
        "id": "JKOqY2j65GGV",
        "outputId": "6fd706b5-c949-421e-a9f8-d02709fdab26"
      },
      "execution_count": null,
      "outputs": [
        {
          "output_type": "stream",
          "name": "stdout",
          "text": [
            "9\n",
            "\n",
            "\n",
            "4\n"
          ]
        }
      ]
    },
    {
      "cell_type": "markdown",
      "source": [
        "###Using range function"
      ],
      "metadata": {
        "id": "w6vZdX_w6E4a"
      }
    },
    {
      "cell_type": "code",
      "source": [
        "print(range(5)) #range function returns a list of numbers that range from zero to one less than the parameter"
      ],
      "metadata": {
        "colab": {
          "base_uri": "https://localhost:8080/"
        },
        "id": "POph1KfS5-8w",
        "outputId": "47eb002e-9839-48c2-e937-ee2cead7ebf6"
      },
      "execution_count": null,
      "outputs": [
        {
          "output_type": "stream",
          "name": "stdout",
          "text": [
            "range(0, 5)\n"
          ]
        }
      ]
    },
    {
      "cell_type": "markdown",
      "source": [
        "###Using range in a for loop"
      ],
      "metadata": {
        "id": "RM7rX1MM6r5S"
      }
    },
    {
      "cell_type": "code",
      "source": [
        "friends=(['joseph','glenn','sally'])\n",
        "for i in range(len(friends)):\n",
        "  friend=friends[i]\n",
        "  print('Happy new year',friend)"
      ],
      "metadata": {
        "colab": {
          "base_uri": "https://localhost:8080/"
        },
        "id": "VgxcV4j_7ACg",
        "outputId": "4deb345c-41d9-45c0-def0-9ddbc89168e7"
      },
      "execution_count": null,
      "outputs": [
        {
          "output_type": "stream",
          "name": "stdout",
          "text": [
            "Happy new year joseph\n",
            "Happy new year glenn\n",
            "Happy new year sally\n"
          ]
        }
      ]
    },
    {
      "cell_type": "markdown",
      "source": [
        "###Concatenating lists using +"
      ],
      "metadata": {
        "id": "s_7zXA_o8AYV"
      }
    },
    {
      "cell_type": "code",
      "source": [
        "#we can create a new list by adding two existing  lists together\n",
        "a=([1,2,3])\n",
        "b=([4,5,6])\n",
        "print(a)\n",
        "print(b)\n",
        "c=a+b\n",
        "print(c)\n",
        "d=([7,8])\n",
        "print(c+d)"
      ],
      "metadata": {
        "colab": {
          "base_uri": "https://localhost:8080/"
        },
        "id": "y-ntscsG8GH6",
        "outputId": "7bf73faa-62fe-4708-9a80-78650befce55"
      },
      "execution_count": null,
      "outputs": [
        {
          "output_type": "stream",
          "name": "stdout",
          "text": [
            "[1, 2, 3]\n",
            "[4, 5, 6]\n",
            "[1, 2, 3, 4, 5, 6]\n",
            "[1, 2, 3, 4, 5, 6, 7, 8]\n"
          ]
        }
      ]
    },
    {
      "cell_type": "markdown",
      "source": [
        "###Lists can be sliced using :"
      ],
      "metadata": {
        "id": "K4b5c2r4825a"
      }
    },
    {
      "cell_type": "code",
      "source": [
        "#just like in strings,the second number is \"up to but not including\"\n",
        "t=[9,41,12,3,74,15]\n",
        "\n",
        "t[1:3]\n",
        "\n",
        "t[:4]\n",
        "\n",
        "t[3:]\n",
        "\n",
        "t[:]\n",
        "\n",
        "#skip alternate number\n",
        "t[::2]"
      ],
      "metadata": {
        "colab": {
          "base_uri": "https://localhost:8080/"
        },
        "id": "AzChpuCA87WD",
        "outputId": "772fd479-2eed-478f-c70c-df781b31fd07"
      },
      "execution_count": null,
      "outputs": [
        {
          "output_type": "execute_result",
          "data": {
            "text/plain": [
              "[9, 12, 74]"
            ]
          },
          "metadata": {},
          "execution_count": 38
        }
      ]
    },
    {
      "cell_type": "markdown",
      "source": [
        "###List Methods"
      ],
      "metadata": {
        "id": "FCnhN7iU-A0p"
      }
    },
    {
      "cell_type": "code",
      "source": [
        "x=([1,2,3])\n",
        "type(x)\n",
        "dir(x)"
      ],
      "metadata": {
        "colab": {
          "base_uri": "https://localhost:8080/"
        },
        "id": "j1gVmCr7-FOx",
        "outputId": "a3b86b36-446f-4b5d-f523-5023378e31ce"
      },
      "execution_count": null,
      "outputs": [
        {
          "output_type": "execute_result",
          "data": {
            "text/plain": [
              "['__add__',\n",
              " '__class__',\n",
              " '__class_getitem__',\n",
              " '__contains__',\n",
              " '__delattr__',\n",
              " '__delitem__',\n",
              " '__dir__',\n",
              " '__doc__',\n",
              " '__eq__',\n",
              " '__format__',\n",
              " '__ge__',\n",
              " '__getattribute__',\n",
              " '__getitem__',\n",
              " '__gt__',\n",
              " '__hash__',\n",
              " '__iadd__',\n",
              " '__imul__',\n",
              " '__init__',\n",
              " '__init_subclass__',\n",
              " '__iter__',\n",
              " '__le__',\n",
              " '__len__',\n",
              " '__lt__',\n",
              " '__mul__',\n",
              " '__ne__',\n",
              " '__new__',\n",
              " '__reduce__',\n",
              " '__reduce_ex__',\n",
              " '__repr__',\n",
              " '__reversed__',\n",
              " '__rmul__',\n",
              " '__setattr__',\n",
              " '__setitem__',\n",
              " '__sizeof__',\n",
              " '__str__',\n",
              " '__subclasshook__',\n",
              " 'append',\n",
              " 'clear',\n",
              " 'copy',\n",
              " 'count',\n",
              " 'extend',\n",
              " 'index',\n",
              " 'insert',\n",
              " 'pop',\n",
              " 'remove',\n",
              " 'reverse',\n",
              " 'sort']"
            ]
          },
          "metadata": {},
          "execution_count": 42
        }
      ]
    },
    {
      "cell_type": "markdown",
      "source": [
        "###Building a list from scratch"
      ],
      "metadata": {
        "id": "mCIgM3x3-_lN"
      }
    },
    {
      "cell_type": "code",
      "source": [
        "#we can create an empty list and then add elements using append method\n",
        "#the list stays in order and new elements are added at the end of the list\n",
        "stuff = list()\n",
        "stuff.append('book')\n",
        "stuff.append(10)\n",
        "print(stuff)\n",
        "\n",
        "stuff.append('cookie')\n",
        "print(stuff)\n",
        "\n",
        "stuff.remove(10)\n",
        "print(stuff)\n",
        "\n",
        "stuff.reverse()\n",
        "print(stuff)\n",
        "\n",
        "stuff.sort()\n",
        "print(stuff)\n",
        "\n",
        "stuff.insert(1,'15') #tanu is inserted at index 1\n",
        "print(stuff)\n",
        "\n",
        "num = stuff.count('15') #The count() method returns the number of times the specified element appears in the list.\n",
        "print(num)\n",
        "\n",
        "copy= stuff.copy()\n",
        "print(\"copied list is\",copy) #The copy() method returns a shallow copy of the list.\n",
        "\n",
        "t=([1,2,3,4])\n",
        "t.extend(stuff) #The extend() method adds all the elements of an iterable (list, tuple, string etc.) to the end of the list.\n",
        "print(t)\n",
        "\n",
        "#Syntax: list_name.index(element, start, end)\n",
        "#Parameters:\n",
        "#element – The element whose lowest index will be returned.\n",
        "#start (Optional) – The position from where the search begins.\n",
        "#end (Optional) – The position from where the search ends.\n",
        "#Return: Returns the lowest index where the element appears.\n",
        "\n",
        "print(t.index(4,2,4))\n",
        "\n",
        "removed_element = t.pop(2) #The list pop() method removes the item at the specified index. The method also returns the removed item.\n",
        "print('removed element is ', removed_element)\n",
        "print('updated list is ', t)\n",
        "\n",
        "stuff.clear()\n",
        "print(stuff)\n"
      ],
      "metadata": {
        "colab": {
          "base_uri": "https://localhost:8080/"
        },
        "id": "rRxqHJec_HiG",
        "outputId": "32fd6153-f88f-44e4-fd84-1f9262617bff"
      },
      "execution_count": null,
      "outputs": [
        {
          "output_type": "stream",
          "name": "stdout",
          "text": [
            "['book', 10]\n",
            "['book', 10, 'cookie']\n",
            "['book', 'cookie']\n",
            "['cookie', 'book']\n",
            "['book', 'cookie']\n",
            "['book', '15', 'cookie']\n",
            "1\n",
            "copied list is ['book', '15', 'cookie']\n",
            "[1, 2, 3, 4, 'book', '15', 'cookie']\n",
            "3\n",
            "removed element is  3\n",
            "updated list is  [1, 2, 4, 'book', '15', 'cookie']\n",
            "[]\n"
          ]
        }
      ]
    },
    {
      "cell_type": "markdown",
      "source": [
        "###Is something in a list?"
      ],
      "metadata": {
        "id": "CTYQ03ltJDDb"
      }
    },
    {
      "cell_type": "code",
      "source": [
        "some = ([1,9,21,10,16,'string'])\n",
        "9 in some\n",
        "\n",
        "15 in some\n",
        "\n",
        "20 not in some\n",
        "\n",
        "'string' in some"
      ],
      "metadata": {
        "colab": {
          "base_uri": "https://localhost:8080/"
        },
        "id": "3c0PkDziJKIO",
        "outputId": "570acc76-6ce2-42ec-b46c-2caa32af670f"
      },
      "execution_count": null,
      "outputs": [
        {
          "output_type": "execute_result",
          "data": {
            "text/plain": [
              "True"
            ]
          },
          "metadata": {},
          "execution_count": 75
        }
      ]
    },
    {
      "cell_type": "markdown",
      "source": [
        "#A list is an ordered sequence"
      ],
      "metadata": {
        "id": "vsMDrA8fJsuE"
      }
    },
    {
      "cell_type": "code",
      "source": [
        "friends=(['joseph','glenn','sally'])\n",
        "friends.sort() #alphabetically\n",
        "print(friends)\n",
        "\n",
        "print(friends[1])\n",
        "\n",
        "numbers=([19,8,7,6,5,4,3])\n",
        "numbers.sort()\n",
        "print(numbers)"
      ],
      "metadata": {
        "colab": {
          "base_uri": "https://localhost:8080/"
        },
        "id": "2rE5JK8KJ2Bz",
        "outputId": "9cff7ab8-b75b-4cbe-a65c-b304cead4d12"
      },
      "execution_count": null,
      "outputs": [
        {
          "output_type": "stream",
          "name": "stdout",
          "text": [
            "['glenn', 'joseph', 'sally']\n",
            "joseph\n",
            "[3, 4, 5, 6, 7, 8, 19]\n"
          ]
        }
      ]
    },
    {
      "cell_type": "markdown",
      "source": [
        "###Built in functions and Lists"
      ],
      "metadata": {
        "id": "D2tY-9GJKpkg"
      }
    },
    {
      "cell_type": "code",
      "source": [
        "nums=([3,41,12,9,74,15])\n",
        "print(len(nums))\n",
        "\n",
        "print(max(nums))\n",
        "\n",
        "print(min(nums))\n",
        "\n",
        "print(sum(nums))\n",
        "\n",
        "print(int(sum(nums)/len(nums)))"
      ],
      "metadata": {
        "colab": {
          "base_uri": "https://localhost:8080/"
        },
        "id": "TzFWW78bKvHW",
        "outputId": "bbb64d4c-7ca2-49c5-ec3d-67bb546829b5"
      },
      "execution_count": null,
      "outputs": [
        {
          "output_type": "stream",
          "name": "stdout",
          "text": [
            "6\n",
            "74\n",
            "3\n",
            "154\n",
            "25\n"
          ]
        }
      ]
    },
    {
      "cell_type": "markdown",
      "source": [
        "###Best Friends: Strings and Lists"
      ],
      "metadata": {
        "id": "oxmjVOibLdzg"
      }
    },
    {
      "cell_type": "code",
      "source": [
        "abc='with three words' #strings\n",
        "stuff = abc.split() #split breaks a string into parts produces a list of strings.we can think of these as a words. we can access a particular word.\n",
        "print(stuff)                    #we have converted a string into list\n",
        "\n",
        "print(len(stuff))\n",
        "\n",
        "print(stuff[0])"
      ],
      "metadata": {
        "colab": {
          "base_uri": "https://localhost:8080/"
        },
        "id": "GgL0iCADLjXa",
        "outputId": "2523d391-51eb-45e3-c0f3-bd68723d4a74"
      },
      "execution_count": null,
      "outputs": [
        {
          "output_type": "stream",
          "name": "stdout",
          "text": [
            "['with', 'three', 'words']\n",
            "3\n",
            "with\n"
          ]
        }
      ]
    },
    {
      "cell_type": "markdown",
      "source": [
        "###we can specify what delimiter character to use in the splitting"
      ],
      "metadata": {
        "id": "QW0pAOiMOdJb"
      }
    },
    {
      "cell_type": "code",
      "source": [
        "line='A lot.             of spaces'\n",
        "etc= line.split()\n",
        "print(etc)\n",
        "print(len(etc))\n",
        "print('\\n')\n",
        "\n",
        "line='first;second;    third'\n",
        "t= line.split() #by default whitespace is taken as delimiter\n",
        "print(t)\n",
        "print(len(t))\n",
        "print('\\n')\n",
        "\n",
        "t=line.split(';')\n",
        "print(t)\n",
        "print(len(t))"
      ],
      "metadata": {
        "colab": {
          "base_uri": "https://localhost:8080/"
        },
        "id": "FaaqCKwMOc2K",
        "outputId": "945507d6-7f22-45b7-eec2-f5d3572834cd"
      },
      "execution_count": null,
      "outputs": [
        {
          "output_type": "stream",
          "name": "stdout",
          "text": [
            "['A', 'lot.', 'of', 'spaces']\n",
            "4\n",
            "\n",
            "\n",
            "['first;second;', 'third']\n",
            "2\n",
            "\n",
            "\n",
            "['first', 'second', '    third']\n",
            "3\n"
          ]
        }
      ]
    }
  ]
}